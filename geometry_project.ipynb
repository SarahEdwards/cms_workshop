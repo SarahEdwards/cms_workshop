{
 "cells": [
  {
   "cell_type": "markdown",
   "metadata": {},
   "source": [
    "# Geometry Analysis Project Solution"
   ]
  },
  {
   "cell_type": "code",
   "execution_count": 17,
   "metadata": {},
   "outputs": [
    {
     "name": "stdout",
     "output_type": "stream",
     "text": [
      "O to H1 : 0.969\n",
      "O to H2 : 0.969\n"
     ]
    }
   ],
   "source": [
    "import numpy\n",
    "import os\n",
    "\n",
    "file_location = os.path.join('data', 'water.xyz')\n",
    "xyz_file = numpy.genfromtxt(fname=file_location, skip_header = 2, dtype = 'unicode')\n",
    "symbols = xyz_file[:,0]\n",
    "coordinates = xyz_file[:,1:]\n",
    "coordinates = coordinates.astype(numpy.float)\n",
    "\n",
    "num_atoms=len(symbols)\n",
    "for num1 in range(0,num_atoms):\n",
    "    for num2 in range(0,num_atoms):\n",
    "        if num1<num2:\n",
    "            x_distance = coordinates[num1,0] - coordinates[num2,0]\n",
    "            y_distance = coordinates[num1,1] - coordinates[num2,1]\n",
    "            z_distance = coordinates[num1,2] - coordinates[num2,2]\n",
    "            bond_length_12 = numpy.sqrt(x_distance**2 + y_distance**2 + z_distance**2)\n",
    "            if bond_length_12 > 0 and bond_length_12 < 1.5:\n",
    "                print(F'{symbols[num1]} to {symbols[num2]} : {bond_length_12:.3f}')"
   ]
  },
  {
   "cell_type": "code",
   "execution_count": 15,
   "metadata": {},
   "outputs": [],
   "source": [
    "#def = function_name(parameters):\n",
    "#    function code goes\n",
    "#    this could be multiple lines\n",
    "#    return value_to_return"
   ]
  },
  {
   "cell_type": "code",
   "execution_count": 23,
   "metadata": {},
   "outputs": [],
   "source": [
    "def calculate_distance(atom1_coord, atom2_coord): \n",
    "    \"\"\"\n",
    "    This function takes the coordinates of two atoms and calculates the distances between them.\n",
    "    Inputs: atom1_coord, atom2_coord\n",
    "    Return: distance\n",
    "    \"\"\"\n",
    "    x_distance = atom1_coord[0] - atom2_coord[0]\n",
    "    y_distance = atom1_coord[1] - atom2_coord[1]\n",
    "    z_distance = atom1_coord[2] - atom2_coord[2]\n",
    "    distance = numpy.sqrt(x_distance**2 + y_distance**2 + z_distance**2)\n",
    "    return distance"
   ]
  },
  {
   "cell_type": "code",
   "execution_count": 21,
   "metadata": {},
   "outputs": [
    {
     "name": "stdout",
     "output_type": "stream",
     "text": [
      "O to H1 : 0.969\n",
      "O to H2 : 0.969\n"
     ]
    }
   ],
   "source": [
    "num_atoms=len(symbols)\n",
    "for num1 in range(0,num_atoms):\n",
    "    for num2 in range(0,num_atoms):\n",
    "        if num1<num2:\n",
    "            bond_length_12 = calculate_distance(coordinates[num1], coordinates[num2])\n",
    "            if bond_length_12 > 0 and bond_length_12 < 1.5:\n",
    "                print(F'{symbols[num1]} to {symbols[num2]} : {bond_length_12:.3f}')"
   ]
  },
  {
   "cell_type": "code",
   "execution_count": 24,
   "metadata": {},
   "outputs": [
    {
     "name": "stdout",
     "output_type": "stream",
     "text": [
      "Help on function calculate_distance in module __main__:\n",
      "\n",
      "calculate_distance(atom1_coord, atom2_coord)\n",
      "    This function takes the coordinates of two atoms and calculates the distances between them.\n",
      "    Inputs: atom1_coord, atom2_coord\n",
      "    Return: distance\n",
      "\n"
     ]
    }
   ],
   "source": [
    "help(calculate_distance)"
   ]
  },
  {
   "cell_type": "code",
   "execution_count": 25,
   "metadata": {},
   "outputs": [],
   "source": [
    "#Write a new functon called bond_check.  \n",
    "#Check and see if a distance is between 0 and 1.5 angstroms\n",
    "#Return True or False"
   ]
  },
  {
   "cell_type": "code",
   "execution_count": 58,
   "metadata": {},
   "outputs": [],
   "source": [
    "def bond_check(distance,minimum=0,maximum=1.5):\n",
    "    \"\"\"\n",
    "    This function accepts a single distance (one number) and checks to see if it is between \n",
    "    the specified minimum (default: 0 angstroms) and maximum (default: 1.5 angstroms) values.\n",
    "    \"\"\"\n",
    "    if distance > minimum and distance < maximum:\n",
    "        return(True)\n",
    "    else:\n",
    "        return(False)"
   ]
  },
  {
   "cell_type": "code",
   "execution_count": 59,
   "metadata": {},
   "outputs": [
    {
     "name": "stdout",
     "output_type": "stream",
     "text": [
      "O to H1 : 0.969001\n",
      "O to H2 : 0.969000\n"
     ]
    }
   ],
   "source": [
    "num_atoms=len(symbols)\n",
    "for num1 in range(0,num_atoms):\n",
    "    for num2 in range(0,num_atoms):\n",
    "        if num1<num2:\n",
    "            bond_length_12 = calculate_distance(coordinates[num1], coordinates[num2])\n",
    "            if bond_check(bond_length_12) is True:\n",
    "                print(F'{symbols[num1]} to {symbols[num2]} : {bond_length_12:3f}')"
   ]
  },
  {
   "cell_type": "code",
   "execution_count": 60,
   "metadata": {},
   "outputs": [],
   "source": [
    "#Write a function that reads in and processes an xyz file\n",
    "#Function name open_xyz\n",
    "#Input filename\n",
    "#Two outputs: symbols and coordinates"
   ]
  },
  {
   "cell_type": "code",
   "execution_count": 81,
   "metadata": {},
   "outputs": [],
   "source": [
    "def open_xyz(filename):\n",
    "    \"\"\"\n",
    "    Opens and processes a standard xyz file.\n",
    "    Returns symbols and numpy array of coordinates.o\n",
    "    \"\"\"\n",
    "    xyz_file = numpy.genfromtxt(fname=filename, skip_header = 2, dtype = 'unicode')\n",
    "    symbols = xyz_file[:,0]\n",
    "    coordinates = xyz_file[:,1:]\n",
    "    coordinates = coordinates.astype(numpy.float)\n",
    "    \n",
    "    return symbols, coordinates"
   ]
  },
  {
   "cell_type": "code",
   "execution_count": 82,
   "metadata": {},
   "outputs": [
    {
     "data": {
      "text/plain": [
       "(array(['O', 'H1', 'H2'], dtype='<U9'),\n",
       " array([[ 0.      , -0.007156,  0.965491],\n",
       "        [-0.      ,  0.001486, -0.003471],\n",
       "        [ 0.      ,  0.931026,  1.207929]]))"
      ]
     },
     "execution_count": 82,
     "metadata": {},
     "output_type": "execute_result"
    }
   ],
   "source": [
    "filename = os.path.join('data', 'water.xyz')\n",
    "open_xyz(filename)"
   ]
  },
  {
   "cell_type": "code",
   "execution_count": 83,
   "metadata": {},
   "outputs": [
    {
     "data": {
      "text/plain": [
       "(array(['C', 'H', 'C', 'H', 'C', 'H', 'C', 'H', 'C', 'H', 'C', 'H'],\n",
       "       dtype='<U8'), array([[ 0.     ,  1.40272,  0.     ],\n",
       "        [ 0.     ,  2.49029,  0.     ],\n",
       "        [-1.21479,  0.70136,  0.     ],\n",
       "        [-2.15666,  1.24515,  0.     ],\n",
       "        [-1.21479, -0.70136,  0.     ],\n",
       "        [-2.15666, -1.24515,  0.     ],\n",
       "        [ 0.     , -1.40272,  0.     ],\n",
       "        [ 0.     , -2.49029,  0.     ],\n",
       "        [ 1.21479, -0.70136,  0.     ],\n",
       "        [ 2.15666, -1.24515,  0.     ],\n",
       "        [ 1.21479,  0.70136,  0.     ],\n",
       "        [ 2.15666,  1.24515,  0.     ]]))"
      ]
     },
     "execution_count": 83,
     "metadata": {},
     "output_type": "execute_result"
    }
   ],
   "source": [
    "filename = os.path.join('data', 'benzene.xyz')\n",
    "open_xyz(filename)"
   ]
  },
  {
   "cell_type": "code",
   "execution_count": 101,
   "metadata": {},
   "outputs": [
    {
     "name": "stdout",
     "output_type": "stream",
     "text": [
      "O to H1: 0.969\n",
      "O to H2: 0.969\n"
     ]
    }
   ],
   "source": [
    "import numpy\n",
    "import os\n",
    "\n",
    "def open_xyz(filename):\n",
    "    \"\"\"\n",
    "    Opens and processes a standard xyz file.\n",
    "    Returns symbols and numpy array of coordinates.o\n",
    "    \"\"\"\n",
    "    xyz_file = numpy.genfromtxt(fname=filename, skip_header = 2, dtype = 'unicode')\n",
    "    symbols = xyz_file[:,0]\n",
    "    coordinates = xyz_file[:,1:]\n",
    "    coordinates = coordinates.astype(numpy.float)\n",
    "    \n",
    "    return symbols, coordinates\n",
    "\n",
    "def calculate_distance(atom1_coord, atom2_coord): \n",
    "    \"\"\"\n",
    "    This function takes the coordinates of two atoms and calculates the distances between them.\n",
    "    Inputs: atom1_coord, atom2_coord\n",
    "    Return: distance\n",
    "    \"\"\"\n",
    "    x_distance = atom1_coord[0] - atom2_coord[0]\n",
    "    y_distance = atom1_coord[1] - atom2_coord[1]\n",
    "    z_distance = atom1_coord[2] - atom2_coord[2]\n",
    "    distance = numpy.sqrt(x_distance**2 + y_distance**2 + z_distance**2)\n",
    "    return distance\n",
    "\n",
    "def bond_check(distance,minimum=0,maximum=1.5):\n",
    "    \"\"\"\n",
    "    This function accepts a single distance (one number) and checks to see if it is between \n",
    "    the specified minimum (default: 0 angstroms) and maximum (default: 1.5 angstroms) values.\n",
    "    \"\"\"\n",
    "    if distance > minimum and distance < maximum:\n",
    "        return(True)\n",
    "    else:\n",
    "        return(False)\n",
    "    \n",
    "file_location = os.path.join('data', 'water.xyz')\n",
    "open_xyz(file_location)\n",
    "num_atoms = len(symbols)\n",
    "for num1 in range(0, num_atoms):\n",
    "    for num2 in range(0, num_atoms):\n",
    "        if num1<num2:\n",
    "            bond_length_12 = calculate_distance(coordinates[num1], coordinates[num2])\n",
    "            if bond_check(bond_length_12) is True:\n",
    "                print(F'{symbols[num1]} to {symbols[num2]}: {bond_length_12:.3f}')"
   ]
  },
  {
   "cell_type": "code",
   "execution_count": null,
   "metadata": {},
   "outputs": [],
   "source": []
  }
 ],
 "metadata": {
  "kernelspec": {
   "display_name": "Python 3",
   "language": "python",
   "name": "python3"
  },
  "language_info": {
   "codemirror_mode": {
    "name": "ipython",
    "version": 3
   },
   "file_extension": ".py",
   "mimetype": "text/x-python",
   "name": "python",
   "nbconvert_exporter": "python",
   "pygments_lexer": "ipython3",
   "version": "3.7.3"
  }
 },
 "nbformat": 4,
 "nbformat_minor": 2
}
